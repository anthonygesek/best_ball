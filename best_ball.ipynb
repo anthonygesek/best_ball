{
 "cells": [
  {
   "cell_type": "code",
   "execution_count": 1,
   "metadata": {},
   "outputs": [],
   "source": [
    "import requests\n",
    "import re\n",
    "import json\n",
    "from bs4 import BeautifulSoup\n",
    "import pandas as pd\n",
    "import numpy as np\n",
    "from pandas.io.json import json_normalize\n",
    "import unicodedata\n",
    "import sqlalchemy\n",
    "from sqlalchemy import create_engine\n",
    "from sqlalchemy import Table, Column, Integer, String, MetaData, ForeignKey\n",
    "from sqlalchemy import inspect\n",
    "import datetime\n",
    "from datetime import date, timedelta"
   ]
  },
  {
   "cell_type": "code",
   "execution_count": 2,
   "metadata": {},
   "outputs": [],
   "source": [
    "engine = sqlalchemy.create_engine('mysql+pymysql://root:p@ssw0rd@localhost:3306/mlb_db')"
   ]
  },
  {
   "cell_type": "code",
   "execution_count": null,
   "metadata": {},
   "outputs": [],
   "source": []
  },
  {
   "cell_type": "code",
   "execution_count": 342,
   "metadata": {},
   "outputs": [],
   "source": [
    "\n",
    "def box_to_sql(year,month,day):\n",
    "    game_list = box_score(year,month,day)\n",
    "    batter = requests.get('http://gd2.mlb.com'+ game_list[0] +'/boxscore.json').json()['data']['boxscore']['batting']\n",
    "    pitcher = requests.get('http://gd2.mlb.com'+ game_list[0] +'/boxscore.json').json()['data']['boxscore']['pitching']\n",
    "    games_date = 'mlb_'+str(year) +'_'+str(month)+'_'+str(day)\n",
    "    num_bat = ['a', 'ab', 'ao', 'avg', 'bb', 'bo', 'cs', 'd', 'e', 'fldg', 'go', 'h', 'hbp', 'hr', 'lob', 'obp', 'ops', 'po', 'r', 'rbi', 's_bb', 's_h', 's_hr', 's_r', 's_rbi', 's_so', 'sac', 'sb', 'sf', 'slg', 'so', 't']\n",
    "    num_p = ['bb', 'bf', 'bs','er', 'game_score', 'h', 'hld', 'hr', 'l', 'np', 'out', 'r', 's', 's_bb', 's_er', 's_h', 's_ip', 's_r', 's_so', 'so', 'sv', 'w']\n",
    "    lambda_w = lambda row: 1 if row.win == 'true' else 0\n",
    "    lambda_s = lambda row: 1 if row.save == 'true' else 0\n",
    "    lambda_bs = lambda row: 1 if row.blown_save == 'true' else 0\n",
    "    bats_df = pd.concat([pd.DataFrame(batter[0]['batter']), pd.DataFrame(batter[1]['batter'])], sort = True).reset_index()\n",
    "    for num in num_bat:\n",
    "        bats_df[num] = bats_df[num].apply(lambda x: float(x))\n",
    "    bats_df['points'] = bats_df.hr*6 + bats_df.sb*5 + bats_df.h*4 + bats_df.r*2 + bats_df.rbi*2 - bats_df.ab\n",
    "    if type(pitcher[0]['pitcher']) == list and type(pitcher[1]['pitcher']) == list:\n",
    "        pitch_df = pd.concat([pd.DataFrame(pitcher[0]['pitcher']), pd.DataFrame(pitcher[1]['pitcher'])], sort = True).reset_index()\n",
    "        for num in num_p:\n",
    "            pitch_df[num] = pitch_df[num].apply(lambda x: float(x))\n",
    "        pitch_df.win = pitch_df.apply(lambda_w, axis = 1)\n",
    "        try:\n",
    "            pitch_df.save = pitch_df.apply(lambda_s, axis = 1)\n",
    "            pitch_df['points'] = pitch_df.win*6 + pitch_df.save*6 + pitch_df.out + pitch_df.so - (pitch_df.h + pitch_df.bb + pitch_df.er*2)\n",
    "        except:\n",
    "            pitch_df['points'] = pitch_df.win*6 + pitch_df.out + pitch_df.so - (pitch_df.h + pitch_df.bb + pitch_df.er*2)\n",
    "    elif type(pitcher[0]['pitcher']) == dict and type(pitcher[1]['pitcher']) == list:\n",
    "        pitch_df = pd.concat([pd.DataFrame(pitcher[0]['pitcher'], index = [0]), pd.DataFrame(pitcher[1]['pitcher'])], sort = True).reset_index()\n",
    "        for num in num_p:\n",
    "            pitch_df[num] = pitch_df[num].apply(lambda x: float(x))\n",
    "        pitch_df.win = pitch_df.apply(lambda_w, axis = 1)\n",
    "        try:\n",
    "            pitch_df.save = pitch_df.apply(lambda_s, axis = 1)\n",
    "            pitch_df['points'] = pitch_df.win*6 + pitch_df.save*6 + pitch_df.out + pitch_df.so - (pitch_df.h + pitch_df.bb + pitch_df.er*2)\n",
    "        except:\n",
    "            pitch_df['points'] = pitch_df.win*6 + pitch_df.out + pitch_df.so - (pitch_df.h + pitch_df.bb + pitch_df.er*2)\n",
    "    elif type(pitcher[0]['pitcher']) == list and type(pitcher[1]['pitcher']) == dict:\n",
    "        pitch_df = pd.concat([pd.DataFrame(pitcher[0]['pitcher']), pd.DataFrame(pitcher[1]['pitcher'], index = [0])], sort = True).reset_index()\n",
    "        for num in num_p:\n",
    "            pitch_df[num] = pitch_df[num].apply(lambda x: float(x))\n",
    "        pitch_df.win = pitch_df.apply(lambda_w, axis = 1)\n",
    "        try:\n",
    "            pitch_df.save = pitch_df.apply(lambda_s, axis = 1)\n",
    "            pitch_df['points'] = pitch_df.win*6 + pitch_df.save*6 + pitch_df.out + pitch_df.so - (pitch_df.h + pitch_df.bb + pitch_df.er*2)\n",
    "        except:\n",
    "            pitch_df['points'] = pitch_df.win*6 + pitch_df.out + pitch_df.so - (pitch_df.h + pitch_df.bb + pitch_df.er*2)\n",
    "    elif type(pitcher[0]['pitcher']) == dict and type(pitcher[1]['pitcher']) == dict:\n",
    "        pitch_df = pd.concat([pd.DataFrame(pitcher[0]['pitcher'], index = [0]), pd.DataFrame(pitcher[1]['pitcher'], index = [0])], sort = True).reset_index()\n",
    "        for num in num_p:\n",
    "            pitch_df[num] = pitch_df[num].apply(lambda x: float(x))\n",
    "        pitch_df.win = pitch_df.apply(lambda_w, axis = 1)\n",
    "        try:\n",
    "            pitch_df.save = pitch_df.apply(lambda_s, axis = 1)\n",
    "            pitch_df['points'] = pitch_df.win*6 + pitch_df.save*6 + pitch_df.out + pitch_df.so - (pitch_df.h + pitch_df.bb + pitch_df.er*2)\n",
    "        except:\n",
    "            pitch_df['points'] = pitch_df.win*6 + pitch_df.out + pitch_df.so - (pitch_df.h + pitch_df.bb + pitch_df.er*2)\n",
    "    try:\n",
    "        whole_game = bats_df.merge(pitch_df, how = 'outer', on = ['index','bb','h','hr','id','name','name_display_first_last','note', 'points','pos','r','s_bb','s_h','s_r','s_so','so'])\n",
    "    except:\n",
    "        bats_df['note'] = None\n",
    "        whole_game = bats_df.merge(pitch_df, how = 'outer', on = ['index','bb','h','hr','id','name','name_display_first_last','note', 'points','pos','r','s_bb','s_h','s_r','s_so','so'])\n",
    "    for n in range(1,len(game_list)):\n",
    "        if game_list[n]:\n",
    "            batter = requests.get('http://gd2.mlb.com'+ game_list[n] +'/boxscore.json').json()['data']['boxscore']['batting']\n",
    "            pitcher = requests.get('http://gd2.mlb.com'+ game_list[n] +'/boxscore.json').json()['data']['boxscore']['pitching']\n",
    "            new_bats_df = pd.concat([pd.DataFrame(batter[0]['batter']), pd.DataFrame(batter[1]['batter'])], sort = True).reset_index()\n",
    "            for num in num_bat:\n",
    "                new_bats_df[num] = new_bats_df[num].apply(lambda x: float(x))\n",
    "            new_bats_df['points'] = new_bats_df.hr*6 + new_bats_df.sb*5 + new_bats_df.h*4 + new_bats_df.r*2 + new_bats_df.rbi*2 - new_bats_df.ab\n",
    "            if type(pitcher[0]['pitcher']) == list and type(pitcher[1]['pitcher']) == list:\n",
    "                new_pitch_df = pd.concat([pd.DataFrame(pitcher[0]['pitcher']), pd.DataFrame(pitcher[1]['pitcher'])], sort = True).reset_index()\n",
    "                for num in num_p:\n",
    "                    new_pitch_df[num] = new_pitch_df[num].apply(lambda x: float(x))\n",
    "                new_pitch_df.win = new_pitch_df.apply(lambda_w, axis = 1)\n",
    "                try:\n",
    "                    new_pitch_df.save = new_pitch_df.apply(lambda_s, axis = 1)\n",
    "                    new_pitch_df['points'] = new_pitch_df.win*6 + new_pitch_df.save*6 + new_pitch_df.out + new_pitch_df.so - (new_pitch_df.h + new_pitch_df.bb + new_pitch_df.er*2)\n",
    "                except:\n",
    "                    new_pitch_df['points'] = new_pitch_df.win*6 + new_pitch_df.out + new_pitch_df.so - (new_pitch_df.h + new_pitch_df.bb + new_pitch_df.er*2)\n",
    "            elif type(pitcher[0]['pitcher']) == dict and type(pitcher[1]['pitcher']) == list:\n",
    "                new_pitch_df = pd.concat([pd.DataFrame(pitcher[0]['pitcher'], index = [0]), pd.DataFrame(pitcher[1]['pitcher'])], sort = True).reset_index()\n",
    "                for num in num_p:\n",
    "                    new_pitch_df[num] = new_pitch_df[num].apply(lambda x: float(x))\n",
    "                new_pitch_df.win = new_pitch_df.apply(lambda_w, axis = 1)\n",
    "                try:\n",
    "                    new_pitch_df.save = new_pitch_df.apply(lambda_s, axis = 1)\n",
    "                    new_pitch_df['points'] = new_pitch_df.win*6 + new_pitch_df.save*6 + new_pitch_df.out + new_pitch_df.so - (new_pitch_df.h + new_pitch_df.bb + new_pitch_df.er*2)\n",
    "                except:\n",
    "                    new_pitch_df['points'] = new_pitch_df.win*6 + new_pitch_df.out + new_pitch_df.so - (new_pitch_df.h + new_pitch_df.bb + new_pitch_df.er*2)\n",
    "            elif type(pitcher[0]['pitcher']) == list and type(pitcher[1]['pitcher']) == dict:\n",
    "                new_pitch_df = pd.concat([pd.DataFrame(pitcher[0]['pitcher']), pd.DataFrame(pitcher[1]['pitcher'], index = [0])], sort = True).reset_index()\n",
    "                for num in num_p:\n",
    "                    new_pitch_df[num] = new_pitch_df[num].apply(lambda x: float(x))\n",
    "                new_pitch_df.win = new_pitch_df.apply(lambda_w, axis = 1)\n",
    "                try:\n",
    "                    new_pitch_df.save = new_pitch_df.apply(lambda_s, axis = 1)\n",
    "                    new_pitch_df['points'] = new_pitch_df.win*6 + new_pitch_df.save*6 + new_pitch_df.out + new_pitch_df.so - (new_pitch_df.h + new_pitch_df.bb + new_pitch_df.er*2)\n",
    "                except:\n",
    "                    new_pitch_df['points'] = new_pitch_df.win*6 + new_pitch_df.out + new_pitch_df.so - (new_pitch_df.h + new_pitch_df.bb + new_pitch_df.er*2)\n",
    "            elif type(pitcher[0]['pitcher']) == dict and type(pitcher[1]['pitcher']) == dict:\n",
    "                new_pitch_df = pd.concat([pd.DataFrame(pitcher[0]['pitcher'], index = [0]), pd.DataFrame(pitcher[1]['pitcher'], index = [0])], sort = True).reset_index()\n",
    "                for num in num_p:\n",
    "                    new_pitch_df[num] = new_pitch_df[num].apply(lambda x: float(x))\n",
    "                new_pitch_df.win = new_pitch_df.apply(lambda_w, axis = 1)\n",
    "                try:\n",
    "                    new_pitch_df.save = new_pitch_df.apply(lambda_s, axis = 1)\n",
    "                    new_pitch_df['points'] = new_pitch_df.win*6 + new_pitch_df.save*6 + new_pitch_df.out + new_pitch_df.so - (new_pitch_df.h + new_pitch_df.bb + new_pitch_df.er*2)\n",
    "                except:\n",
    "                    new_pitch_df['points'] = new_pitch_df.win*6 + new_pitch_df.out + new_pitch_df.so - (new_pitch_df.h + new_pitch_df.bb + new_pitch_df.er*2)\n",
    "            try:\n",
    "                whole_new = new_bats_df.merge(new_pitch_df, how = 'outer',  on = ['index','bb','h','hr','id','name','name_display_first_last','note', 'points','pos','r','s_bb','s_h','s_r','s_so','so'])\n",
    "            except:\n",
    "                new_bats_df['note'] = None\n",
    "                whole_new = new_bats_df.merge(new_pitch_df, how = 'outer',  on = ['index','bb','h','hr','id','name','name_display_first_last','note', 'points','pos','r','s_bb','s_h','s_r','s_so','so'])\n",
    "            whole_game = pd.concat([whole_game, whole_new], sort = True)\n",
    "    try:\n",
    "        whole_game.blown_save = whole_game.apply(lambda_bs, axis = 1)\n",
    "    except:\n",
    "        whole_game['blown_save'] = 0\n",
    "    whole_game = whole_game.rename(columns = {'out': 'outs'})\n",
    "    whole_game = whole_game.fillna(value = 0)\n",
    "    whole_game['game_day'] = date(year,month,day)\n",
    "    try:\n",
    "        del whole_game['content']\n",
    "    except:\n",
    "        pass\n",
    "    try:\n",
    "        len(whole_game.gidp)\n",
    "    except:\n",
    "        whole_game['gidp'] = 0\n",
    "    col_list = sorted(whole_game.columns.tolist())\n",
    "    whole_game = whole_game[col_list]\n",
    "    whole_game.to_sql(name = games_date, con = engine, index = False, if_exists = 'replace')\n",
    "\n",
    "    \n",
    "def sql_to_pandas(year, month, day):\n",
    "    boxscore = pd.read_sql_table('mlb_' + str(year) + '_' +str(month) + '_' + str(day), con = engine, schema = 'mlb_db')\n",
    "    return boxscore\n",
    "\n",
    "def sql_daily_dict(year, month, day):\n",
    "    with engine.connect() as con:\n",
    "        query = 'SELECT ab, bb, er, h, hr, id, name_display_first_last as name, outs, points, pos, r, rbi, save as sv, sb, so, win as w FROM mlb_' +str(year) +'_' + str(month) +'_' +str(day)\n",
    "        mlb = con.execute(query)\n",
    "\n",
    "    sdict = {'id': [],\n",
    "             'name': [],\n",
    "             'ab': [],\n",
    "             'h': [],\n",
    "             'r': [],\n",
    "             'hr': [],\n",
    "             'rbi': [],\n",
    "             'sb': [],\n",
    "             'w': [],\n",
    "             'sv': [],\n",
    "             'so': [],\n",
    "             'bb': [],\n",
    "             'outs': [],\n",
    "             'er': [],\n",
    "             'pos': [],\n",
    "             'points': []\n",
    "            }\n",
    "\n",
    "    for col in mlb:\n",
    "        for key in sdict:\n",
    "            sdict[key].append(col[key])\n",
    "    return sdict\n",
    "\n",
    "\n",
    "def linear_search(search_list, target_value):\n",
    "    for n in range(len(search_list)):\n",
    "        if search_list[n] == target_value:\n",
    "            return n\n",
    "def points_from_stats_dict(id_string, stats_dict):\n",
    "    idx = linear_search(stats_dict['id'], id_string)\n",
    "    if idx:\n",
    "        points = stats_dict['points'][idx]\n",
    "    else:\n",
    "        points = 0\n",
    "    return points\n",
    "    \n",
    "def fantasy_stats(year,month,day,team_dataframe):\n",
    "    stats_dict = sql_daily_dict(year,month,day)\n",
    "    lambda_points = lambda row: points_from_stats_dict(row.id, stats_dict)\n",
    "    team_dataframe['points'] = team_dataframe.apply(lambda_points, axis = 1)\n",
    "    return team_dataframe\n",
    "\n",
    "def point_dict(year,month,day,team_dataframe):\n",
    "    team_df = fantasy_stats(year,month,day,team_dataframe)\n",
    "    teams = list(set(team_df.Team))\n",
    "    players = {}\n",
    "    for i in teams:\n",
    "        players[i] = [[team_df[team_df.Team == i].name.tolist()[0], team_df[team_df.Team == i].yahoo_pos.tolist()[0], team_df[team_df.Team == i].points.tolist()[0]]]\n",
    "        for n in range(1,len(team_df[team_df.Team == i])):\n",
    "            players[i].append([team_df[team_df.Team == i].name.tolist()[n], team_df[team_df.Team == i].yahoo_pos.tolist()[n], team_df[team_df.Team == i].points.tolist()[n]])\n",
    "    return players\n",
    "\n",
    "def bubble_sort(arr):\n",
    "    iteration_count = 0\n",
    "    for i in range(len(arr)):\n",
    "        # iterate through unplaced elements\n",
    "        for idx in range(len(arr) - i - 1):\n",
    "            iteration_count += 1\n",
    "            if arr[idx][2] < arr[idx + 1][2]:\n",
    "                arr[idx], arr[idx + 1] = arr[idx + 1], arr[idx]"
   ]
  },
  {
   "cell_type": "code",
   "execution_count": 5,
   "metadata": {},
   "outputs": [
    {
     "data": {
      "text/plain": [
       "['/components/game/mlb/year_2018/month_03/day_29/gid_2018_03_29_chnmlb_miamlb_1',\n",
       " '/components/game/mlb/year_2018/month_03/day_29/gid_2018_03_29_slnmlb_nynmlb_1',\n",
       " '/components/game/mlb/year_2018/month_03/day_29/gid_2018_03_29_minmlb_balmlb_1',\n",
       " '/components/game/mlb/year_2018/month_03/day_29/gid_2018_03_29_houmlb_texmlb_1',\n",
       " '/components/game/mlb/year_2018/month_03/day_29/gid_2018_03_29_nyamlb_tormlb_1',\n",
       " '/components/game/mlb/year_2018/month_03/day_29/gid_2018_03_29_bosmlb_tbamlb_1',\n",
       " '/components/game/mlb/year_2018/month_03/day_29/gid_2018_03_29_anamlb_oakmlb_1',\n",
       " '/components/game/mlb/year_2018/month_03/day_29/gid_2018_03_29_milmlb_sdnmlb_1',\n",
       " '/components/game/mlb/year_2018/month_03/day_29/gid_2018_03_29_phimlb_atlmlb_1',\n",
       " '/components/game/mlb/year_2018/month_03/day_29/gid_2018_03_29_chamlb_kcamlb_1',\n",
       " '/components/game/mlb/year_2018/month_03/day_29/gid_2018_03_29_sfnmlb_lanmlb_1',\n",
       " '/components/game/mlb/year_2018/month_03/day_29/gid_2018_03_29_clemlb_seamlb_1',\n",
       " '/components/game/mlb/year_2018/month_03/day_29/gid_2018_03_29_colmlb_arimlb_1']"
      ]
     },
     "execution_count": 5,
     "metadata": {},
     "output_type": "execute_result"
    }
   ],
   "source": [
    "box_score(2018,3,29)"
   ]
  },
  {
   "cell_type": "code",
   "execution_count": 196,
   "metadata": {},
   "outputs": [],
   "source": [
    "batter = requests.get('http://gd2.mlb.com/components/game/mlb/year_2018/month_03/day_29/gid_2018_03_29_houmlb_texmlb_1/boxscore.json').json()['data']['boxscore']['batting']\n",
    "pitcher = requests.get('http://gd2.mlb.com/components/game/mlb/year_2018/month_03/day_29/gid_2018_03_29_houmlb_texmlb_1/boxscore.json').json()['data']['boxscore']['pitching']\n",
    "pitch_df = pd.concat([pd.DataFrame(pitcher[0]['pitcher']), pd.DataFrame(pitcher[1]['pitcher'])], sort = True).reset_index()\n",
    "bats_df = pd.concat([pd.DataFrame(batter[0]['batter']), pd.DataFrame(batter[1]['batter'])], sort = True).reset_index()"
   ]
  },
  {
   "cell_type": "code",
   "execution_count": 228,
   "metadata": {},
   "outputs": [
    {
     "data": {
      "text/plain": [
       "Index(['index', 'bb', 'bf', 'bs', 'er', 'era', 'game_score', 'h', 'hld', 'hr',\n",
       "       'id', 'l', 'loss', 'name', 'name_display_first_last', 'note', 'np',\n",
       "       'out', 'pos', 'r', 's', 's_bb', 's_er', 's_h', 's_ip', 's_r', 's_so',\n",
       "       'so', 'sv', 'w', 'win'],\n",
       "      dtype='object')"
      ]
     },
     "execution_count": 228,
     "metadata": {},
     "output_type": "execute_result"
    }
   ],
   "source": [
    "pitch_df.columns"
   ]
  },
  {
   "cell_type": "code",
   "execution_count": 202,
   "metadata": {},
   "outputs": [
    {
     "name": "stdout",
     "output_type": "stream",
     "text": [
      "no\n"
     ]
    }
   ],
   "source": [
    "try:\n",
    "    bats_df.note\n",
    "    print('yes')\n",
    "except:\n",
    "    print('no')"
   ]
  },
  {
   "cell_type": "code",
   "execution_count": 53,
   "metadata": {},
   "outputs": [],
   "source": [
    "opening_day = datetime.date(2018,3,29)\n",
    "last_day = datetime.date(2018,9,30)"
   ]
  },
  {
   "cell_type": "code",
   "execution_count": 55,
   "metadata": {},
   "outputs": [],
   "source": [
    "team_list = pd.read_csv('team_list.csv')"
   ]
  },
  {
   "cell_type": "code",
   "execution_count": 54,
   "metadata": {},
   "outputs": [],
   "source": [
    "dd = [opening_day + timedelta(days=x) for x in range((last_day-opening_day).days + 1)]"
   ]
  },
  {
   "cell_type": "code",
   "execution_count": 256,
   "metadata": {},
   "outputs": [
    {
     "data": {
      "text/plain": [
       "datetime.date(2018, 7, 19)"
      ]
     },
     "execution_count": 256,
     "metadata": {},
     "output_type": "execute_result"
    }
   ],
   "source": [
    "dd[109]"
   ]
  },
  {
   "cell_type": "code",
   "execution_count": 242,
   "metadata": {
    "scrolled": true
   },
   "outputs": [
    {
     "name": "stdout",
     "output_type": "stream",
     "text": [
      "0\n",
      "1\n",
      "2\n",
      "3\n",
      "4\n",
      "5\n",
      "6\n",
      "7\n",
      "8\n",
      "9\n",
      "10\n",
      "11\n",
      "12\n",
      "13\n",
      "14\n",
      "15\n",
      "16\n",
      "17\n",
      "18\n",
      "19\n",
      "20\n",
      "21\n",
      "22\n",
      "23\n",
      "24\n",
      "25\n",
      "26\n",
      "27\n",
      "28\n",
      "29\n",
      "30\n",
      "31\n",
      "32\n",
      "33\n",
      "34\n",
      "35\n",
      "36\n",
      "37\n",
      "38\n",
      "39\n",
      "40\n",
      "41\n",
      "42\n",
      "43\n",
      "44\n",
      "45\n",
      "46\n",
      "47\n",
      "48\n",
      "49\n",
      "50\n",
      "51\n",
      "52\n",
      "53\n",
      "54\n",
      "55\n",
      "56\n",
      "57\n",
      "58\n",
      "59\n",
      "60\n",
      "61\n",
      "62\n",
      "63\n",
      "64\n",
      "65\n",
      "66\n",
      "67\n",
      "68\n",
      "69\n",
      "70\n",
      "71\n",
      "72\n",
      "73\n",
      "74\n",
      "75\n",
      "76\n",
      "77\n",
      "78\n",
      "79\n",
      "80\n",
      "81\n",
      "82\n",
      "83\n",
      "84\n",
      "85\n",
      "86\n",
      "87\n",
      "88\n",
      "89\n",
      "90\n",
      "91\n",
      "92\n",
      "93\n",
      "94\n",
      "95\n",
      "96\n",
      "97\n",
      "98\n",
      "99\n",
      "100\n",
      "101\n",
      "102\n",
      "103\n",
      "104\n",
      "105\n",
      "106\n",
      "107\n",
      "108\n",
      "109\n",
      "110\n",
      "111\n",
      "112\n",
      "113\n",
      "114\n",
      "115\n",
      "116\n",
      "117\n",
      "118\n",
      "119\n",
      "120\n",
      "121\n",
      "122\n",
      "123\n",
      "124\n",
      "125\n",
      "126\n",
      "127\n",
      "128\n",
      "129\n",
      "130\n",
      "131\n",
      "132\n",
      "133\n",
      "134\n",
      "135\n",
      "136\n",
      "137\n",
      "138\n",
      "139\n",
      "140\n",
      "141\n",
      "142\n",
      "143\n",
      "144\n",
      "145\n",
      "146\n",
      "147\n",
      "148\n",
      "149\n",
      "150\n",
      "151\n",
      "152\n",
      "153\n",
      "154\n",
      "155\n",
      "156\n",
      "157\n",
      "158\n",
      "159\n",
      "160\n",
      "161\n",
      "162\n",
      "163\n",
      "164\n",
      "165\n",
      "166\n",
      "167\n",
      "168\n",
      "169\n",
      "170\n",
      "171\n",
      "172\n",
      "173\n",
      "174\n",
      "175\n",
      "176\n",
      "177\n",
      "178\n",
      "179\n",
      "180\n",
      "181\n",
      "182\n"
     ]
    }
   ],
   "source": [
    "for n in range(0, len(dd)):\n",
    "    print(n)\n",
    "    box_to_sql(dd[n].year, dd[n].month, dd[n].day)"
   ]
  },
  {
   "cell_type": "code",
   "execution_count": 255,
   "metadata": {},
   "outputs": [],
   "source": [
    "box_to_sql(2018,7,19)"
   ]
  },
  {
   "cell_type": "code",
   "execution_count": 253,
   "metadata": {},
   "outputs": [
    {
     "name": "stdout",
     "output_type": "stream",
     "text": [
      "614\n"
     ]
    }
   ],
   "source": [
    "try:\n",
    "    print(len(sql_to_pandas(2018,7,14).gidp))\n",
    "except:\n",
    "    stuff = sql_to_pandas(2018,7,14)\n",
    "    stuff['gidp'] = 0\n",
    "    print(stuff.gidp)"
   ]
  },
  {
   "cell_type": "code",
   "execution_count": 257,
   "metadata": {
    "scrolled": true
   },
   "outputs": [
    {
     "name": "stdout",
     "output_type": "stream",
     "text": [
      "109\n",
      "110\n",
      "111\n",
      "112\n",
      "113\n",
      "114\n",
      "115\n",
      "116\n",
      "117\n",
      "118\n",
      "119\n",
      "120\n",
      "121\n",
      "122\n",
      "123\n",
      "124\n",
      "125\n",
      "126\n",
      "127\n",
      "128\n",
      "129\n",
      "130\n",
      "131\n",
      "132\n",
      "133\n",
      "134\n",
      "135\n",
      "136\n",
      "137\n",
      "138\n",
      "139\n",
      "140\n",
      "141\n",
      "142\n",
      "143\n",
      "144\n",
      "145\n",
      "146\n",
      "147\n",
      "148\n",
      "149\n",
      "150\n",
      "151\n",
      "152\n",
      "153\n",
      "154\n",
      "155\n",
      "156\n",
      "157\n",
      "158\n",
      "159\n",
      "160\n",
      "161\n",
      "162\n",
      "163\n",
      "164\n",
      "165\n",
      "166\n",
      "167\n",
      "168\n",
      "169\n",
      "170\n",
      "171\n",
      "172\n",
      "173\n",
      "174\n",
      "175\n",
      "176\n",
      "177\n",
      "178\n",
      "179\n",
      "180\n",
      "181\n",
      "182\n"
     ]
    }
   ],
   "source": [
    "for n in range(109, len(dd)):\n",
    "    print(n)\n",
    "    with engine.connect() as con:\n",
    "        query = 'insert into mlb_2018_year select * from mlb_' +str(dd[n].year)+ '_' + str(dd[n].month) + '_' + str(dd[n].day) +';'\n",
    "        con.execute(query)"
   ]
  },
  {
   "cell_type": "code",
   "execution_count": 65,
   "metadata": {},
   "outputs": [],
   "source": [
    "del team_list['Unnamed: 0']\n",
    "team_list.id = team_list.id.apply(lambda x: str(x).split('.')[0])"
   ]
  },
  {
   "cell_type": "code",
   "execution_count": 74,
   "metadata": {
    "scrolled": true
   },
   "outputs": [],
   "source": [
    "team_list.to_csv('team_list.csv')"
   ]
  },
  {
   "cell_type": "code",
   "execution_count": 273,
   "metadata": {},
   "outputs": [],
   "source": [
    "with engine.connect() as con:\n",
    "    query = \"\"\"select name_display_first_last as name, round((sum(er)/(sum(outs)/3))*9, 2) as season_era, round(sum(outs)/3, 1) as innings, game_day as date from mlb_2018_year \n",
    "               where pos = 'P' \n",
    "               group by 1 \n",
    "               having season_era is not null and innings > 120 \n",
    "               order by 2 asc;\"\"\"\n",
    "    era = con.execute(query)\n",
    "era_dict = {'name': [],\n",
    "            'season_era': [],\n",
    "            'innings': [],\n",
    "            'date': []\n",
    "           } \n",
    "for col in era:\n",
    "    for key in era_dict:\n",
    "        era_dict[key].append(col[key])\n",
    "era_df = pd.DataFrame(era_dict)"
   ]
  },
  {
   "cell_type": "code",
   "execution_count": null,
   "metadata": {},
   "outputs": [],
   "source": []
  },
  {
   "cell_type": "code",
   "execution_count": 412,
   "metadata": {
    "scrolled": true
   },
   "outputs": [],
   "source": [
    "p_6_6 = point_dict(2018,6,6, team_list)"
   ]
  },
  {
   "cell_type": "code",
   "execution_count": 413,
   "metadata": {},
   "outputs": [
    {
     "data": {
      "text/plain": [
       "[['Welington Castillo', 'C', 0.0],\n",
       " ['Joey Votto', '1B', 5.0],\n",
       " ['Ozzie Albies', '2B', 0.0],\n",
       " ['Freddie Freeman', '1B, 3B', 10.0],\n",
       " ['Trea Turner', 'SS', 0.0],\n",
       " ['Rhys Hoskins', '1B, OF', 0.0],\n",
       " ['Jose Martinez', '1B, OF', 13.0],\n",
       " ['Teoscar Hernandez', 'OF', -5.0],\n",
       " ['Kyle Seager', '3B', 10.0],\n",
       " ['Ronald Acuna', 'OF', 0.0],\n",
       " ['Carlos Carrasco', 'SP', 0.0],\n",
       " ['Luke Weaver', 'SP', 0.0],\n",
       " ['Bud Norris', 'SP, RP', 0.0],\n",
       " ['Brad Boxberger', 'RP', 0.0],\n",
       " ['Chad Green', 'SP, RP', 0.0],\n",
       " ['Walker Buehler', 'SP', 0.0],\n",
       " ['J.A. Happ', 'SP', 0.0],\n",
       " ['Kenta Maeda', 'SP', 0.0],\n",
       " ['Luis Castillo', 'SP', 0.0],\n",
       " ['Zack Godley', 'SP', 0.0],\n",
       " ['Garrett Richards', 'SP', 0.0],\n",
       " ['Luiz Gohara', 'SP', 0.0],\n",
       " ['Madison Bumgarner', 'SP', 0.0],\n",
       " ['Alex Reyes', 'SP, RP', 0.0]]"
      ]
     },
     "execution_count": 413,
     "metadata": {},
     "output_type": "execute_result"
    }
   ],
   "source": [
    "p_6_6['Flyin Castillo Bros.']"
   ]
  },
  {
   "cell_type": "code",
   "execution_count": 402,
   "metadata": {
    "scrolled": true
   },
   "outputs": [],
   "source": [
    "from math import inf\n",
    "points_by_pos = {}\n",
    "for item in p_6_6:\n",
    "    bubble_sort(p_6_6[item])\n",
    "    available = []\n",
    "    points_by_pos[item] = {'C': ['name', inf],\n",
    "                           '1B': ['name', inf],\n",
    "                           '2B': ['name', inf],\n",
    "                           '3B': ['name', inf],\n",
    "                           'SS': ['name', inf],\n",
    "                           'OF': ['name', inf],\n",
    "                           'Util': ['name', inf],\n",
    "                           'SP': ['name', inf],\n",
    "                           'RP': ['name', inf]\n",
    "                          }\n",
    "    for n in range(len(p_6_6[item])):\n",
    "        available.append([p_6_6[item][n][0], p_6_6[item][n][1]])        \n",
    "        if len(p_6_6[item][n][1].split(',')) == 1 and p_6_6[item][n][2] <  points_by_pos[item][p_6_6[item][n][1]][1]:\n",
    "            points_by_pos[item][p_6_6[item][n][1]] = [p_6_6[item][n][0],p_6_6[item][n][2]]\n",
    "        else:\n",
    "            p_6_6[item][n][1].split(',')\n",
    "            \n",
    "    \n",
    "    "
   ]
  },
  {
   "cell_type": "code",
   "execution_count": 398,
   "metadata": {},
   "outputs": [
    {
     "data": {
      "text/plain": [
       "[['Buster Posey', 'C, 1B'],\n",
       " ['Paul Goldschmidt', '1B'],\n",
       " ['DJ LeMahieu', '2B'],\n",
       " ['Marwin Gonzalez', '1B, 2B, 3B, SS, OF'],\n",
       " ['Manny Machado', '3B, SS'],\n",
       " ['Bryce Harper', 'OF'],\n",
       " ['Carlos Santana', '1B'],\n",
       " ['Derek Dietrich', '2B'],\n",
       " ['Hanley Ramirez', '1B'],\n",
       " ['Kevin Pillar', 'OF'],\n",
       " ['Salvador Perez', 'C'],\n",
       " ['Justin Turner', '3B'],\n",
       " ['Alex Wood', 'SP'],\n",
       " ['Miles Mikolas', 'SP'],\n",
       " ['Addison Reed', 'RP'],\n",
       " ['Brandon Kintzler', 'RP'],\n",
       " ['Archie Bradley', 'SP, RP'],\n",
       " ['Keone Kela', 'RP'],\n",
       " ['Mike Clevinger', 'SP'],\n",
       " ['Marcus Stroman', 'SP'],\n",
       " ['Jeff Samardzija', 'SP'],\n",
       " ['Chris Archer', 'SP'],\n",
       " ['Jameson Taillon', 'SP'],\n",
       " ['Jimmy Nelson', 'SP']]"
      ]
     },
     "execution_count": 398,
     "metadata": {},
     "output_type": "execute_result"
    }
   ],
   "source": [
    "available"
   ]
  },
  {
   "cell_type": "code",
   "execution_count": 417,
   "metadata": {
    "scrolled": true
   },
   "outputs": [
    {
     "data": {
      "text/plain": [
       "{'Flyin Castillo Bros.': [['Jose Martinez', '1B, OF', 13.0],\n",
       "  ['Freddie Freeman', '1B, 3B', 10.0],\n",
       "  ['Kyle Seager', '3B', 10.0],\n",
       "  ['Joey Votto', '1B', 5.0],\n",
       "  ['Welington Castillo', 'C', 0.0],\n",
       "  ['Ozzie Albies', '2B', 0.0],\n",
       "  ['Trea Turner', 'SS', 0.0],\n",
       "  ['Rhys Hoskins', '1B, OF', 0.0],\n",
       "  ['Ronald Acuna', 'OF', 0.0],\n",
       "  ['Carlos Carrasco', 'SP', 0.0],\n",
       "  ['Luke Weaver', 'SP', 0.0],\n",
       "  ['Bud Norris', 'SP, RP', 0.0],\n",
       "  ['Brad Boxberger', 'RP', 0.0],\n",
       "  ['Chad Green', 'SP, RP', 0.0],\n",
       "  ['Walker Buehler', 'SP', 0.0],\n",
       "  ['J.A. Happ', 'SP', 0.0],\n",
       "  ['Kenta Maeda', 'SP', 0.0],\n",
       "  ['Luis Castillo', 'SP', 0.0],\n",
       "  ['Zack Godley', 'SP', 0.0],\n",
       "  ['Garrett Richards', 'SP', 0.0],\n",
       "  ['Luiz Gohara', 'SP', 0.0],\n",
       "  ['Madison Bumgarner', 'SP', 0.0],\n",
       "  ['Alex Reyes', 'SP, RP', 0.0],\n",
       "  ['Teoscar Hernandez', 'OF', -5.0]],\n",
       " 'Smoak Me A Kingery': [['Corey Dickerson', 'OF', 16.0],\n",
       "  ['Cody Bellinger', '1B, OF', 15.0],\n",
       "  ['Kris Bryant', '3B, OF', 8.0],\n",
       "  ['Mike Moustakas', '3B', 6.0],\n",
       "  ['Whit Merrifield', '2B, OF', 3.0],\n",
       "  ['Mitch Haniger', 'OF', 3.0],\n",
       "  ['Zack Wheeler', 'SP', 2.0],\n",
       "  ['Corey Seager', 'SS', 0.0],\n",
       "  ['Lance Lynn', 'SP', 0.0],\n",
       "  ['Gerrit Cole', 'SP', 0.0],\n",
       "  ['Edwin Diaz', 'RP', 0.0],\n",
       "  ['Ken Giles', 'RP', 0.0],\n",
       "  ['Zach Davies', 'SP', 0.0],\n",
       "  ['Sean Newcomb', 'SP', 0.0],\n",
       "  ['James Paxton', 'SP', 0.0],\n",
       "  ['Jake Junis', 'SP', 0.0],\n",
       "  ['Justin Smoak', '1B', -1.0],\n",
       "  ['Gary Sanchez', 'C', -2.0],\n",
       "  ['Jose Quintana', 'SP', -2.0],\n",
       "  ['Jack Flaherty', 'SP', -2.0],\n",
       "  ['Michael Conforto', 'OF', -3.0],\n",
       "  ['Scott Kingery', '2B, 3B, OF', -3.0]],\n",
       " 'Red Bat and Blue Bat': [['Derek Dietrich', '2B', 27.0],\n",
       "  ['Paul Goldschmidt', '1B', 17.0],\n",
       "  ['Bryce Harper', 'OF', 3.0],\n",
       "  ['Carlos Santana', '1B', 2.0],\n",
       "  ['Justin Turner', '3B', 2.0],\n",
       "  ['Buster Posey', 'C, 1B', 0.0],\n",
       "  ['Marwin Gonzalez', '1B, 2B, 3B, SS, OF', 0.0],\n",
       "  ['Manny Machado', '3B, SS', 0.0],\n",
       "  ['Hanley Ramirez', '1B', 0.0],\n",
       "  ['Alex Wood', 'SP', 0.0],\n",
       "  ['Miles Mikolas', 'SP', 0.0],\n",
       "  ['Addison Reed', 'RP', 0.0],\n",
       "  ['Brandon Kintzler', 'RP', 0.0],\n",
       "  ['Archie Bradley', 'SP, RP', 0.0],\n",
       "  ['Keone Kela', 'RP', 0.0],\n",
       "  ['Mike Clevinger', 'SP', 0.0],\n",
       "  ['Marcus Stroman', 'SP', 0.0],\n",
       "  ['Jeff Samardzija', 'SP', 0.0],\n",
       "  ['Chris Archer', 'SP', 0.0],\n",
       "  ['Jameson Taillon', 'SP', 0.0],\n",
       "  ['Jimmy Nelson', 'SP', 0.0],\n",
       "  ['Salvador Perez', 'C', -1.0],\n",
       "  ['DJ LeMahieu', '2B', -5.0],\n",
       "  ['Kevin Pillar', 'OF', -5.0]]}"
      ]
     },
     "execution_count": 417,
     "metadata": {},
     "output_type": "execute_result"
    }
   ],
   "source": [
    "p_6_6"
   ]
  },
  {
   "cell_type": "code",
   "execution_count": 406,
   "metadata": {},
   "outputs": [
    {
     "data": {
      "text/plain": [
       "0.0"
      ]
     },
     "execution_count": 406,
     "metadata": {},
     "output_type": "execute_result"
    }
   ],
   "source": [
    "p_6_6['Flyin Castillo Bros.'][0][2]"
   ]
  },
  {
   "cell_type": "code",
   "execution_count": 414,
   "metadata": {},
   "outputs": [],
   "source": []
  },
  {
   "cell_type": "code",
   "execution_count": 415,
   "metadata": {},
   "outputs": [],
   "source": []
  },
  {
   "cell_type": "code",
   "execution_count": null,
   "metadata": {},
   "outputs": [],
   "source": []
  },
  {
   "cell_type": "code",
   "execution_count": null,
   "metadata": {
    "scrolled": true
   },
   "outputs": [],
   "source": []
  },
  {
   "cell_type": "code",
   "execution_count": null,
   "metadata": {},
   "outputs": [],
   "source": []
  },
  {
   "cell_type": "code",
   "execution_count": null,
   "metadata": {},
   "outputs": [],
   "source": []
  },
  {
   "cell_type": "code",
   "execution_count": null,
   "metadata": {},
   "outputs": [],
   "source": []
  },
  {
   "cell_type": "code",
   "execution_count": null,
   "metadata": {},
   "outputs": [],
   "source": []
  },
  {
   "cell_type": "code",
   "execution_count": null,
   "metadata": {},
   "outputs": [],
   "source": []
  },
  {
   "cell_type": "code",
   "execution_count": null,
   "metadata": {},
   "outputs": [],
   "source": []
  },
  {
   "cell_type": "code",
   "execution_count": null,
   "metadata": {},
   "outputs": [],
   "source": []
  },
  {
   "cell_type": "code",
   "execution_count": null,
   "metadata": {},
   "outputs": [],
   "source": []
  },
  {
   "cell_type": "code",
   "execution_count": null,
   "metadata": {},
   "outputs": [],
   "source": []
  },
  {
   "cell_type": "code",
   "execution_count": null,
   "metadata": {},
   "outputs": [],
   "source": []
  },
  {
   "cell_type": "code",
   "execution_count": null,
   "metadata": {},
   "outputs": [],
   "source": []
  },
  {
   "cell_type": "code",
   "execution_count": null,
   "metadata": {},
   "outputs": [],
   "source": []
  },
  {
   "cell_type": "code",
   "execution_count": null,
   "metadata": {},
   "outputs": [],
   "source": []
  },
  {
   "cell_type": "code",
   "execution_count": null,
   "metadata": {},
   "outputs": [],
   "source": []
  },
  {
   "cell_type": "code",
   "execution_count": null,
   "metadata": {},
   "outputs": [],
   "source": []
  },
  {
   "cell_type": "code",
   "execution_count": null,
   "metadata": {
    "collapsed": true
   },
   "outputs": [],
   "source": []
  },
  {
   "cell_type": "code",
   "execution_count": null,
   "metadata": {},
   "outputs": [],
   "source": []
  },
  {
   "cell_type": "code",
   "execution_count": null,
   "metadata": {},
   "outputs": [],
   "source": []
  },
  {
   "cell_type": "code",
   "execution_count": null,
   "metadata": {},
   "outputs": [],
   "source": []
  },
  {
   "cell_type": "code",
   "execution_count": 30,
   "metadata": {},
   "outputs": [],
   "source": []
  },
  {
   "cell_type": "code",
   "execution_count": null,
   "metadata": {},
   "outputs": [],
   "source": []
  },
  {
   "cell_type": "code",
   "execution_count": null,
   "metadata": {},
   "outputs": [],
   "source": []
  },
  {
   "cell_type": "code",
   "execution_count": null,
   "metadata": {},
   "outputs": [],
   "source": []
  },
  {
   "cell_type": "code",
   "execution_count": null,
   "metadata": {},
   "outputs": [],
   "source": []
  },
  {
   "cell_type": "code",
   "execution_count": null,
   "metadata": {},
   "outputs": [],
   "source": []
  },
  {
   "cell_type": "code",
   "execution_count": null,
   "metadata": {
    "collapsed": true
   },
   "outputs": [],
   "source": []
  },
  {
   "cell_type": "code",
   "execution_count": null,
   "metadata": {},
   "outputs": [],
   "source": []
  },
  {
   "cell_type": "code",
   "execution_count": null,
   "metadata": {},
   "outputs": [],
   "source": []
  },
  {
   "cell_type": "code",
   "execution_count": null,
   "metadata": {},
   "outputs": [],
   "source": []
  },
  {
   "cell_type": "code",
   "execution_count": null,
   "metadata": {},
   "outputs": [],
   "source": []
  },
  {
   "cell_type": "code",
   "execution_count": null,
   "metadata": {},
   "outputs": [],
   "source": []
  },
  {
   "cell_type": "code",
   "execution_count": null,
   "metadata": {},
   "outputs": [],
   "source": []
  },
  {
   "cell_type": "code",
   "execution_count": null,
   "metadata": {},
   "outputs": [],
   "source": []
  },
  {
   "cell_type": "code",
   "execution_count": null,
   "metadata": {},
   "outputs": [],
   "source": []
  },
  {
   "cell_type": "code",
   "execution_count": null,
   "metadata": {},
   "outputs": [],
   "source": []
  },
  {
   "cell_type": "code",
   "execution_count": null,
   "metadata": {},
   "outputs": [],
   "source": []
  },
  {
   "cell_type": "code",
   "execution_count": null,
   "metadata": {},
   "outputs": [],
   "source": []
  },
  {
   "cell_type": "code",
   "execution_count": null,
   "metadata": {},
   "outputs": [],
   "source": []
  },
  {
   "cell_type": "code",
   "execution_count": null,
   "metadata": {
    "collapsed": true
   },
   "outputs": [],
   "source": []
  },
  {
   "cell_type": "code",
   "execution_count": null,
   "metadata": {},
   "outputs": [],
   "source": []
  },
  {
   "cell_type": "code",
   "execution_count": null,
   "metadata": {},
   "outputs": [],
   "source": []
  },
  {
   "cell_type": "code",
   "execution_count": null,
   "metadata": {},
   "outputs": [],
   "source": []
  },
  {
   "cell_type": "code",
   "execution_count": null,
   "metadata": {},
   "outputs": [],
   "source": []
  },
  {
   "cell_type": "code",
   "execution_count": null,
   "metadata": {},
   "outputs": [],
   "source": []
  },
  {
   "cell_type": "code",
   "execution_count": null,
   "metadata": {},
   "outputs": [],
   "source": []
  },
  {
   "cell_type": "code",
   "execution_count": null,
   "metadata": {},
   "outputs": [],
   "source": []
  },
  {
   "cell_type": "code",
   "execution_count": null,
   "metadata": {},
   "outputs": [],
   "source": []
  },
  {
   "cell_type": "code",
   "execution_count": null,
   "metadata": {},
   "outputs": [],
   "source": []
  },
  {
   "cell_type": "code",
   "execution_count": null,
   "metadata": {},
   "outputs": [],
   "source": []
  },
  {
   "cell_type": "code",
   "execution_count": null,
   "metadata": {
    "collapsed": true
   },
   "outputs": [],
   "source": []
  },
  {
   "cell_type": "code",
   "execution_count": null,
   "metadata": {},
   "outputs": [],
   "source": []
  },
  {
   "cell_type": "code",
   "execution_count": null,
   "metadata": {},
   "outputs": [],
   "source": []
  },
  {
   "cell_type": "code",
   "execution_count": null,
   "metadata": {},
   "outputs": [],
   "source": []
  },
  {
   "cell_type": "code",
   "execution_count": null,
   "metadata": {
    "collapsed": true
   },
   "outputs": [],
   "source": []
  },
  {
   "cell_type": "code",
   "execution_count": null,
   "metadata": {},
   "outputs": [],
   "source": []
  },
  {
   "cell_type": "code",
   "execution_count": null,
   "metadata": {},
   "outputs": [],
   "source": []
  },
  {
   "cell_type": "code",
   "execution_count": null,
   "metadata": {},
   "outputs": [],
   "source": []
  },
  {
   "cell_type": "code",
   "execution_count": null,
   "metadata": {},
   "outputs": [],
   "source": []
  },
  {
   "cell_type": "code",
   "execution_count": null,
   "metadata": {},
   "outputs": [],
   "source": []
  },
  {
   "cell_type": "code",
   "execution_count": null,
   "metadata": {},
   "outputs": [],
   "source": []
  },
  {
   "cell_type": "code",
   "execution_count": null,
   "metadata": {
    "collapsed": true
   },
   "outputs": [],
   "source": []
  },
  {
   "cell_type": "code",
   "execution_count": null,
   "metadata": {
    "collapsed": true
   },
   "outputs": [],
   "source": []
  }
 ],
 "metadata": {
  "anaconda-cloud": {},
  "kernelspec": {
   "display_name": "Python [conda env:baseball3.6]",
   "language": "python",
   "name": "conda-env-baseball3.6-py"
  },
  "language_info": {
   "codemirror_mode": {
    "name": "ipython",
    "version": 3
   },
   "file_extension": ".py",
   "mimetype": "text/x-python",
   "name": "python",
   "nbconvert_exporter": "python",
   "pygments_lexer": "ipython3",
   "version": "3.7.0"
  }
 },
 "nbformat": 4,
 "nbformat_minor": 1
}
